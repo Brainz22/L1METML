{
 "cells": [
  {
   "cell_type": "code",
   "execution_count": null,
   "id": "894a98b9-d5c2-4425-8e49-014a1af0b0bf",
   "metadata": {},
   "outputs": [],
   "source": [
    "from DataGenerator import *"
   ]
  },
  {
   "cell_type": "raw",
   "id": "d04b78f4-e775-446b-8134-e641482c3ee0",
   "metadata": {},
   "source": [
    "import"
   ]
  },
  {
   "cell_type": "code",
   "execution_count": null,
   "id": "24e2e841-f7ea-4734-a14f-efb5d41d471f",
   "metadata": {},
   "outputs": [],
   "source": []
  }
 ],
 "metadata": {
  "kernelspec": {
   "display_name": "Python 3",
   "language": "python",
   "name": "python3"
  },
  "language_info": {
   "name": ""
  }
 },
 "nbformat": 4,
 "nbformat_minor": 5
}
